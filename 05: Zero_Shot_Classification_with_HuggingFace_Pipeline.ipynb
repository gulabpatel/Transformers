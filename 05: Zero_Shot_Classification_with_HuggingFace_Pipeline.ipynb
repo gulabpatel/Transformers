{
  "nbformat": 4,
  "nbformat_minor": 0,
  "metadata": {
    "colab": {
      "name": "Zero_Shot_Classification_with_HuggingFace_Pipeline.ipynb",
      "provenance": [],
      "authorship_tag": "ABX9TyOjvRBLTAS9pvLBbcg2i8e0",
      "include_colab_link": true
    },
    "kernelspec": {
      "name": "python3",
      "display_name": "Python 3"
    },
    "language_info": {
      "name": "python"
    }
  },
  "cells": [
    {
      "cell_type": "markdown",
      "metadata": {
        "id": "view-in-github",
        "colab_type": "text"
      },
      "source": [
        "<a href=\"https://colab.research.google.com/github/gulabpatel/NLP_transformers/blob/main/Zero_Shot_Classification_with_HuggingFace_Pipeline_3.ipynb\" target=\"_parent\"><img src=\"https://colab.research.google.com/assets/colab-badge.svg\" alt=\"Open In Colab\"/></a>"
      ]
    },
    {
      "cell_type": "markdown",
      "metadata": {
        "id": "SNUF6VIPUMl8"
      },
      "source": [
        "In this Notebook, Zero Shot classification for text data is discusse. Video help is available [here](https://www.youtube.com/watch?v=J6D-S9gfgwk)."
      ]
    },
    {
      "cell_type": "code",
      "metadata": {
        "id": "Mg5NcutuRBTh"
      },
      "source": [
        "!pip install transformers"
      ],
      "execution_count": null,
      "outputs": []
    },
    {
      "cell_type": "code",
      "metadata": {
        "id": "vIDTyn9yRXyA"
      },
      "source": [
        "import numpy as np\n",
        "import matplotlib.pyplot as plt\n",
        "from transformers import pipeline\n",
        "from pylab import rcParams\n",
        "rcParams['figure.figsize'] = 10, 5"
      ],
      "execution_count": 2,
      "outputs": []
    },
    {
      "cell_type": "code",
      "metadata": {
        "id": "F-zWgULXRvQl"
      },
      "source": [
        "zero_shot_classifier = pipeline('zero-shot-classification')"
      ],
      "execution_count": null,
      "outputs": []
    },
    {
      "cell_type": "markdown",
      "metadata": {
        "id": "TTTm-Ii2TxjX"
      },
      "source": [
        "**Query 1**"
      ]
    },
    {
      "cell_type": "code",
      "metadata": {
        "id": "kZBrv9hTR29K"
      },
      "source": [
        "result = zero_shot_classifier(\n",
        "    sequences = \"Can you oder some pizza\",\n",
        "    candidate_labels = [\"Flight Travel\", \"Cabs Travel\", \"Food\", \"Movies\"],\n",
        "    multi_label = True\n",
        ")"
      ],
      "execution_count": 6,
      "outputs": []
    },
    {
      "cell_type": "code",
      "metadata": {
        "colab": {
          "base_uri": "https://localhost:8080/",
          "height": 320
        },
        "id": "gvoKyGJ2SXMF",
        "outputId": "e054fe02-8002-4af9-aa48-bc810b83a675"
      },
      "source": [
        "plt.bar(result[\"labels\"], result[\"scores\"])\n",
        "plt.yticks(list(np.arange(0,1,0.1)))\n",
        "plt.show()"
      ],
      "execution_count": 7,
      "outputs": [
        {
          "output_type": "display_data",
          "data": {
            "image/png": "[encoded data removed]",
            "text/plain": [
              "<Figure size 720x360 with 1 Axes>"
            ]
          },
          "metadata": {
            "tags": [],
            "needs_background": "light"
          }
        }
      ]
    },
    {
      "cell_type": "markdown",
      "metadata": {
        "id": "-QnqCOBTTuZG"
      },
      "source": [
        "**Query 2**"
      ]
    },
    {
      "cell_type": "code",
      "metadata": {
        "id": "qQD2naQMS63k",
        "outputId": "c4c08151-821a-4367-f964-cc019fd8286c",
        "colab": {
          "base_uri": "https://localhost:8080/",
          "height": 320
        }
      },
      "source": [
        "result = zero_shot_classifier(\n",
        "    sequences = \"Can you oder some pizza & book an Uber to nearest Cinema house at 10PM\",\n",
        "    candidate_labels = [\"Flight Travel\", \"Cabs Travel\", \"Food\", \"Movies\"],\n",
        "    multi_label = True\n",
        ")\n",
        "\n",
        "plt.bar(result[\"labels\"], result[\"scores\"])\n",
        "plt.yticks(list(np.arange(0,1,0.1)))\n",
        "plt.show()"
      ],
      "execution_count": 8,
      "outputs": [
        {
          "output_type": "display_data",
          "data": {
            "image/png": "[encoded data removed]",
            "text/plain": [
              "<Figure size 720x360 with 1 Axes>"
            ]
          },
          "metadata": {
            "tags": [],
            "needs_background": "light"
          }
        }
      ]
    },
    {
      "cell_type": "markdown",
      "metadata": {
        "id": "f70ocLNdTrKW"
      },
      "source": [
        "**Query 3**"
      ]
    },
    {
      "cell_type": "code",
      "metadata": {
        "id": "a0k7znl0S6v8",
        "outputId": "ae0f800c-cc97-451f-d808-2458740e998d",
        "colab": {
          "base_uri": "https://localhost:8080/",
          "height": 320
        }
      },
      "source": [
        "result = zero_shot_classifier(\n",
        "    sequences = \"Can you oder some pizza & book an Uber once my Flight reaches Mumbai to the nearest Cinema house at 10PM\",\n",
        "    candidate_labels = [\"Flight Travel\", \"Cabs Travel\", \"Food\", \"Movies\"],\n",
        "    multi_label = True\n",
        ")\n",
        "\n",
        "plt.bar(result[\"labels\"], result[\"scores\"])\n",
        "plt.yticks(list(np.arange(0,1,0.1)))\n",
        "plt.show()"
      ],
      "execution_count": 9,
      "outputs": [
        {
          "output_type": "display_data",
          "data": {
            "image/png": "[encoded data removed]",
            "text/plain": [
              "<Figure size 720x360 with 1 Axes>"
            ]
          },
          "metadata": {
            "tags": [],
            "needs_background": "light"
          }
        }
      ]
    },
    {
      "cell_type": "markdown",
      "metadata": {
        "id": "lGkZ-VsYSyZ_"
      },
      "source": [
        "--------------------------------"
      ]
    }
  ]
}
